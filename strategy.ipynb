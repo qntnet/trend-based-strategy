{
 "cells": [
  {
   "cell_type": "markdown",
   "metadata": {},
   "source": [
    "# Technical Analysis Template: sRoC = WMA + RoC"
   ]
  },
  {
   "cell_type": "markdown",
   "metadata": {},
   "source": [
    "Follow the trend the using smooth Rate of Change. The smooth function is WMA."
   ]
  },
  {
   "cell_type": "code",
   "execution_count": 1,
   "metadata": {},
   "outputs": [
    {
     "data": {
      "text/html": [
       "        <script type=\"text/javascript\">\n",
       "        window.PlotlyConfig = {MathJaxConfig: 'local'};\n",
       "        if (window.MathJax) {MathJax.Hub.Config({SVG: {font: \"STIX-Web\"}});}\n",
       "        if (typeof require !== 'undefined') {\n",
       "        require.undef(\"plotly\");\n",
       "        requirejs.config({\n",
       "            paths: {\n",
       "                'plotly': ['https://cdn.plot.ly/plotly-latest.min']\n",
       "            }\n",
       "        });\n",
       "        require(['plotly'], function(Plotly) {\n",
       "            window._Plotly = Plotly;\n",
       "        });\n",
       "        }\n",
       "        </script>\n",
       "        "
      ]
     },
     "metadata": {},
     "output_type": "display_data"
    }
   ],
   "source": [
    "import qnt.data as qndata\n",
    "import qnt.stats as qnstats\n",
    "import qnt.xr_talib as qnxrtalib\n",
    "import qnt.graph as qngraph\n",
    "import qnt.forward_looking as qnfl"
   ]
  },
  {
   "cell_type": "markdown",
   "metadata": {},
   "source": [
    "# Data"
   ]
  },
  {
   "cell_type": "code",
   "execution_count": 2,
   "metadata": {
    "scrolled": true
   },
   "outputs": [
    {
     "name": "stdout",
     "output_type": "stream",
     "text": [
      "fetched chunk 1/10 4s\n",
      "fetched chunk 2/10 56s\n",
      "fetched chunk 3/10 71s\n",
      "fetched chunk 4/10 75s\n",
      "fetched chunk 5/10 79s\n",
      "fetched chunk 6/10 83s\n",
      "fetched chunk 7/10 111s\n",
      "fetched chunk 8/10 116s\n",
      "fetched chunk 9/10 120s\n",
      "fetched chunk 10/10 123s\n",
      "Data loaded 123s\n"
     ]
    }
   ],
   "source": [
    "data = qndata.load_data(\n",
    "    min_date=\"2014-01-01\", \n",
    "    max_date=\"2019-08-28\", # final calculations should not limit max_date\n",
    "    forward_order=True, \n",
    "    dims=(\"time\", \"field\", \"asset\")\n",
    ")"
   ]
  },
  {
   "cell_type": "markdown",
   "metadata": {},
   "source": [
    "# Calc output"
   ]
  },
  {
   "cell_type": "code",
   "execution_count": 3,
   "metadata": {
    "scrolled": false
   },
   "outputs": [],
   "source": [
    "SROC_POSITIVE_TREND_LEVEL = 0.0125\n",
    "\n",
    "wma = qnxrtalib.WMA(data.sel(field='close'), 290)\n",
    "sroc = qnxrtalib.ROCP(wma, 35)\n",
    "\n",
    "is_liquid = data.sel(field=\"is_liquid\")\n",
    "weights = is_liquid.where(sroc > SROC_POSITIVE_TREND_LEVEL)\n",
    "\n",
    "weights = weights / weights.sum(\"asset\", skipna=True)\n",
    "\n",
    "output = weights.fillna(0.0)"
   ]
  },
  {
   "cell_type": "markdown",
   "metadata": {},
   "source": [
    "# Stats"
   ]
  },
  {
   "cell_type": "code",
   "execution_count": 4,
   "metadata": {},
   "outputs": [
    {
     "data": {
      "text/html": [
       "<div>\n",
       "<style scoped>\n",
       "    .dataframe tbody tr th:only-of-type {\n",
       "        vertical-align: middle;\n",
       "    }\n",
       "\n",
       "    .dataframe tbody tr th {\n",
       "        vertical-align: top;\n",
       "    }\n",
       "\n",
       "    .dataframe thead th {\n",
       "        text-align: right;\n",
       "    }\n",
       "</style>\n",
       "<table border=\"1\" class=\"dataframe\">\n",
       "  <thead>\n",
       "    <tr style=\"text-align: right;\">\n",
       "      <th>field</th>\n",
       "      <th>equity</th>\n",
       "      <th>relative_return</th>\n",
       "      <th>volatility</th>\n",
       "      <th>underwater</th>\n",
       "      <th>max_drawdown</th>\n",
       "      <th>sharpe_ratio</th>\n",
       "      <th>mean_return</th>\n",
       "      <th>bias</th>\n",
       "      <th>instruments</th>\n",
       "      <th>avg_turnover</th>\n",
       "    </tr>\n",
       "    <tr>\n",
       "      <th>time</th>\n",
       "      <th></th>\n",
       "      <th></th>\n",
       "      <th></th>\n",
       "      <th></th>\n",
       "      <th></th>\n",
       "      <th></th>\n",
       "      <th></th>\n",
       "      <th></th>\n",
       "      <th></th>\n",
       "      <th></th>\n",
       "    </tr>\n",
       "  </thead>\n",
       "  <tbody>\n",
       "    <tr>\n",
       "      <th>2019-08-22</th>\n",
       "      <td>1.336233</td>\n",
       "      <td>-0.000662</td>\n",
       "      <td>0.109256</td>\n",
       "      <td>-0.012514</td>\n",
       "      <td>0.172493</td>\n",
       "      <td>1.001919</td>\n",
       "      <td>0.109465</td>\n",
       "      <td>1.0</td>\n",
       "      <td>937.0</td>\n",
       "      <td>0.038981</td>\n",
       "    </tr>\n",
       "    <tr>\n",
       "      <th>2019-08-23</th>\n",
       "      <td>1.312917</td>\n",
       "      <td>-0.017449</td>\n",
       "      <td>0.109742</td>\n",
       "      <td>-0.029745</td>\n",
       "      <td>0.172493</td>\n",
       "      <td>0.938353</td>\n",
       "      <td>0.102977</td>\n",
       "      <td>1.0</td>\n",
       "      <td>937.0</td>\n",
       "      <td>0.038975</td>\n",
       "    </tr>\n",
       "    <tr>\n",
       "      <th>2019-08-26</th>\n",
       "      <td>1.323573</td>\n",
       "      <td>0.008116</td>\n",
       "      <td>0.109828</td>\n",
       "      <td>-0.021870</td>\n",
       "      <td>0.172493</td>\n",
       "      <td>0.958123</td>\n",
       "      <td>0.105229</td>\n",
       "      <td>1.0</td>\n",
       "      <td>937.0</td>\n",
       "      <td>0.038975</td>\n",
       "    </tr>\n",
       "    <tr>\n",
       "      <th>2019-08-27</th>\n",
       "      <td>1.322865</td>\n",
       "      <td>-0.000535</td>\n",
       "      <td>0.109703</td>\n",
       "      <td>-0.022393</td>\n",
       "      <td>0.172493</td>\n",
       "      <td>0.986816</td>\n",
       "      <td>0.108257</td>\n",
       "      <td>1.0</td>\n",
       "      <td>937.0</td>\n",
       "      <td>0.038974</td>\n",
       "    </tr>\n",
       "    <tr>\n",
       "      <th>2019-08-28</th>\n",
       "      <td>1.326223</td>\n",
       "      <td>0.002538</td>\n",
       "      <td>0.109710</td>\n",
       "      <td>-0.019912</td>\n",
       "      <td>0.172493</td>\n",
       "      <td>0.993914</td>\n",
       "      <td>0.109042</td>\n",
       "      <td>1.0</td>\n",
       "      <td>937.0</td>\n",
       "      <td>0.039021</td>\n",
       "    </tr>\n",
       "  </tbody>\n",
       "</table>\n",
       "</div>"
      ],
      "text/plain": [
       "field         equity  relative_return  volatility  underwater  max_drawdown  \\\n",
       "time                                                                          \n",
       "2019-08-22  1.336233        -0.000662    0.109256   -0.012514      0.172493   \n",
       "2019-08-23  1.312917        -0.017449    0.109742   -0.029745      0.172493   \n",
       "2019-08-26  1.323573         0.008116    0.109828   -0.021870      0.172493   \n",
       "2019-08-27  1.322865        -0.000535    0.109703   -0.022393      0.172493   \n",
       "2019-08-28  1.326223         0.002538    0.109710   -0.019912      0.172493   \n",
       "\n",
       "field       sharpe_ratio  mean_return  bias  instruments  avg_turnover  \n",
       "time                                                                    \n",
       "2019-08-22      1.001919     0.109465   1.0        937.0      0.038981  \n",
       "2019-08-23      0.938353     0.102977   1.0        937.0      0.038975  \n",
       "2019-08-26      0.958123     0.105229   1.0        937.0      0.038975  \n",
       "2019-08-27      0.986816     0.108257   1.0        937.0      0.038974  \n",
       "2019-08-28      0.993914     0.109042   1.0        937.0      0.039021  "
      ]
     },
     "metadata": {},
     "output_type": "display_data"
    }
   ],
   "source": [
    "stat = qnstats.calc_stat(data, output)\n",
    "display(stat.to_pandas().tail())"
   ]
  },
  {
   "cell_type": "markdown",
   "metadata": {},
   "source": [
    "# Improvement"
   ]
  },
  {
   "cell_type": "code",
   "execution_count": 9,
   "metadata": {},
   "outputs": [
    {
     "data": {
      "text/html": [
       "<div>\n",
       "<style scoped>\n",
       "    .dataframe tbody tr th:only-of-type {\n",
       "        vertical-align: middle;\n",
       "    }\n",
       "\n",
       "    .dataframe tbody tr th {\n",
       "        vertical-align: top;\n",
       "    }\n",
       "\n",
       "    .dataframe thead th {\n",
       "        text-align: right;\n",
       "    }\n",
       "</style>\n",
       "<table border=\"1\" class=\"dataframe\">\n",
       "  <thead>\n",
       "    <tr style=\"text-align: right;\">\n",
       "      <th>field</th>\n",
       "      <th>equity</th>\n",
       "      <th>relative_return</th>\n",
       "      <th>volatility</th>\n",
       "      <th>underwater</th>\n",
       "      <th>max_drawdown</th>\n",
       "      <th>sharpe_ratio</th>\n",
       "      <th>mean_return</th>\n",
       "      <th>bias</th>\n",
       "      <th>instruments</th>\n",
       "      <th>avg_turnover</th>\n",
       "    </tr>\n",
       "    <tr>\n",
       "      <th>time</th>\n",
       "      <th></th>\n",
       "      <th></th>\n",
       "      <th></th>\n",
       "      <th></th>\n",
       "      <th></th>\n",
       "      <th></th>\n",
       "      <th></th>\n",
       "      <th></th>\n",
       "      <th></th>\n",
       "      <th></th>\n",
       "    </tr>\n",
       "  </thead>\n",
       "  <tbody>\n",
       "    <tr>\n",
       "      <th>2019-08-22</th>\n",
       "      <td>1.322140</td>\n",
       "      <td>-0.000568</td>\n",
       "      <td>0.107553</td>\n",
       "      <td>-0.011732</td>\n",
       "      <td>0.16732</td>\n",
       "      <td>0.964483</td>\n",
       "      <td>0.103733</td>\n",
       "      <td>1.0</td>\n",
       "      <td>849.0</td>\n",
       "      <td>0.035540</td>\n",
       "    </tr>\n",
       "    <tr>\n",
       "      <th>2019-08-23</th>\n",
       "      <td>1.298576</td>\n",
       "      <td>-0.017822</td>\n",
       "      <td>0.108066</td>\n",
       "      <td>-0.029346</td>\n",
       "      <td>0.16732</td>\n",
       "      <td>0.898783</td>\n",
       "      <td>0.097128</td>\n",
       "      <td>1.0</td>\n",
       "      <td>849.0</td>\n",
       "      <td>0.035543</td>\n",
       "    </tr>\n",
       "    <tr>\n",
       "      <th>2019-08-26</th>\n",
       "      <td>1.309464</td>\n",
       "      <td>0.008385</td>\n",
       "      <td>0.108163</td>\n",
       "      <td>-0.021207</td>\n",
       "      <td>0.16732</td>\n",
       "      <td>0.921686</td>\n",
       "      <td>0.099692</td>\n",
       "      <td>1.0</td>\n",
       "      <td>849.0</td>\n",
       "      <td>0.035550</td>\n",
       "    </tr>\n",
       "    <tr>\n",
       "      <th>2019-08-27</th>\n",
       "      <td>1.309161</td>\n",
       "      <td>-0.000231</td>\n",
       "      <td>0.108091</td>\n",
       "      <td>-0.021433</td>\n",
       "      <td>0.16732</td>\n",
       "      <td>0.943487</td>\n",
       "      <td>0.101983</td>\n",
       "      <td>1.0</td>\n",
       "      <td>849.0</td>\n",
       "      <td>0.035575</td>\n",
       "    </tr>\n",
       "    <tr>\n",
       "      <th>2019-08-28</th>\n",
       "      <td>1.312511</td>\n",
       "      <td>0.002558</td>\n",
       "      <td>0.108097</td>\n",
       "      <td>-0.018930</td>\n",
       "      <td>0.16732</td>\n",
       "      <td>0.953567</td>\n",
       "      <td>0.103078</td>\n",
       "      <td>1.0</td>\n",
       "      <td>849.0</td>\n",
       "      <td>0.035618</td>\n",
       "    </tr>\n",
       "  </tbody>\n",
       "</table>\n",
       "</div>"
      ],
      "text/plain": [
       "field         equity  relative_return  volatility  underwater  max_drawdown  \\\n",
       "time                                                                          \n",
       "2019-08-22  1.322140        -0.000568    0.107553   -0.011732       0.16732   \n",
       "2019-08-23  1.298576        -0.017822    0.108066   -0.029346       0.16732   \n",
       "2019-08-26  1.309464         0.008385    0.108163   -0.021207       0.16732   \n",
       "2019-08-27  1.309161        -0.000231    0.108091   -0.021433       0.16732   \n",
       "2019-08-28  1.312511         0.002558    0.108097   -0.018930       0.16732   \n",
       "\n",
       "field       sharpe_ratio  mean_return  bias  instruments  avg_turnover  \n",
       "time                                                                    \n",
       "2019-08-22      0.964483     0.103733   1.0        849.0      0.035540  \n",
       "2019-08-23      0.898783     0.097128   1.0        849.0      0.035543  \n",
       "2019-08-26      0.921686     0.099692   1.0        849.0      0.035550  \n",
       "2019-08-27      0.943487     0.101983   1.0        849.0      0.035575  \n",
       "2019-08-28      0.953567     0.103078   1.0        849.0      0.035618  "
      ]
     },
     "execution_count": 9,
     "metadata": {},
     "output_type": "execute_result"
    }
   ],
   "source": [
    "stat_per_asset = qnstats.calc_stat(data, output, max_periods=20, per_asset = True)\n",
    "improved_output = output.where(\n",
    "    stat_per_asset.sel(field='sharpe_ratio').rolling(time=20).min() > -12\n",
    ")\n",
    "stat = qnstats.calc_stat(data, improved_output, max_periods=252 * 3)\n",
    "stat.to_pandas().tail()"
   ]
  },
  {
   "cell_type": "markdown",
   "metadata": {},
   "source": [
    "# Checks"
   ]
  },
  {
   "cell_type": "code",
   "execution_count": 6,
   "metadata": {},
   "outputs": [
    {
     "name": "stdout",
     "output_type": "stream",
     "text": [
      "Computing of the whole output...\n",
      "fetched chunk 1/10 23s\n",
      "fetched chunk 2/10 27s\n",
      "fetched chunk 3/10 31s\n",
      "fetched chunk 4/10 35s\n",
      "fetched chunk 5/10 40s\n",
      "fetched chunk 6/10 44s\n",
      "fetched chunk 7/10 49s\n",
      "fetched chunk 8/10 54s\n",
      "fetched chunk 9/10 58s\n",
      "fetched chunk 10/10 61s\n",
      "Data loaded 61s\n",
      "Computing of the cropped output...\n",
      "fetched chunk 1/9 5s\n",
      "fetched chunk 2/9 9s\n",
      "fetched chunk 3/9 13s\n",
      "fetched chunk 4/9 18s\n",
      "fetched chunk 5/9 23s\n",
      "fetched chunk 6/9 27s\n",
      "fetched chunk 7/9 32s\n",
      "fetched chunk 8/9 37s\n",
      "fetched chunk 9/9 39s\n",
      "Data loaded 39s\n",
      "Ok. There is no forward looking.\n"
     ]
    }
   ],
   "source": [
    "# Use the function from 'qnfl' ensures that no forward-looking\n",
    "# is taking place. \n",
    "def strategy():\n",
    "    \"\"\"\n",
    "    it is the same strtegy, but implemented with xarray\n",
    "    Entire code of strategy calculation is collected here.\n",
    "    \"\"\"\n",
    "    data = qndata.load_data(\n",
    "        min_date=\"2014-01-01\", \n",
    "        # max_date=\"2019-08-28\", # final calculations should not limit max_date\n",
    "        forward_order=True, \n",
    "        dims=(\"time\", \"field\", \"asset\")\n",
    "    )\n",
    "\n",
    "    SROC_POSITIVE_TREND_LEVEL = 0.0125\n",
    "\n",
    "    wma = qnxrtalib.WMA(data.sel(field='close'), 290)\n",
    "    sroc = qnxrtalib.ROCP(wma, 35)\n",
    "\n",
    "    is_liquid = data.sel(field=\"is_liquid\")\n",
    "    weights = is_liquid.where(sroc > SROC_POSITIVE_TREND_LEVEL)\n",
    "\n",
    "    weights = weights / weights.sum(\"asset\", skipna=True)\n",
    "\n",
    "    output = weights.fillna(0.0)\n",
    "    \n",
    "    stat_per_asset = qnstats.calc_stat(data, output, max_periods=20, per_asset = True)\n",
    "    improved_output = output.where(\n",
    "        stat_per_asset.sel(field='sharpe_ratio').rolling(time=20).min() > -10\n",
    "    )\n",
    "    \n",
    "    return improved_output\n",
    "\n",
    "# This function runs strategy twice on the different periods: \n",
    "# the entire data and data the with a cropped last half year.\n",
    "# After that this function compares outputs. \n",
    "# Overlapped outputs must be same.\n",
    "output_final = qnfl.load_data_calc_output_and_check_forward_looking(strategy)"
   ]
  },
  {
   "cell_type": "code",
   "execution_count": 7,
   "metadata": {},
   "outputs": [
    {
     "name": "stdout",
     "output_type": "stream",
     "text": [
      "\n",
      "The number of systems with a larger Sharpe ratio and correlation larger than 0.8: 16\n",
      "The max correlation value (with systems with a larger Sharpe ratio): 0.9799380659211977\n",
      "Current sharpe ratio(3y): 0.9315966554574596\n",
      "\n"
     ]
    }
   ],
   "source": [
    "# correlation check\n",
    "# your strategy should not correlate with other strategies before submission\n",
    "qnstats.print_correlation(output_final, data)"
   ]
  },
  {
   "cell_type": "markdown",
   "metadata": {},
   "source": [
    "# Save output"
   ]
  },
  {
   "cell_type": "code",
   "execution_count": 8,
   "metadata": {},
   "outputs": [
    {
     "name": "stdout",
     "output_type": "stream",
     "text": [
      "write output: /home/username/fractions.nc.gz\n"
     ]
    }
   ],
   "source": [
    "qndata.write_output(output_final)"
   ]
  }
 ],
 "metadata": {
  "kernelspec": {
   "display_name": "Python 3",
   "language": "python",
   "name": "python3"
  },
  "language_info": {
   "codemirror_mode": {
    "name": "ipython",
    "version": 3
   },
   "file_extension": ".py",
   "mimetype": "text/x-python",
   "name": "python",
   "nbconvert_exporter": "python",
   "pygments_lexer": "ipython3",
   "version": "3.7.3"
  }
 },
 "nbformat": 4,
 "nbformat_minor": 2
}
